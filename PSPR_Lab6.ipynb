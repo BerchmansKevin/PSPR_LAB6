{
 "cells": [
  {
   "cell_type": "markdown",
   "id": "918e56e2",
   "metadata": {},
   "source": [
    "# Problem Solving Using Python and R Lab \n",
    " "
   ]
  },
  {
   "cell_type": "markdown",
   "id": "9fe54c76",
   "metadata": {},
   "source": [
    "## Name: `Berchmans Kevin S`"
   ]
  },
  {
   "cell_type": "markdown",
   "id": "80690dd1",
   "metadata": {},
   "source": [
    "## Lab5. `List Processing in Python`"
   ]
  },
  {
   "cell_type": "markdown",
   "id": "656cc3f8",
   "metadata": {},
   "source": [
    "### Question1.  Write a function find_average(student) that takes student tuple as input and print student rollno, name, marks and average marks as output. "
   ]
  },
  {
   "cell_type": "code",
   "execution_count": 1,
   "id": "e75eb549",
   "metadata": {},
   "outputs": [],
   "source": [
    "def find_average(student1):\n",
    "    roll,name,marks = student1\n",
    "    total = 0\n",
    "    for mark in marks:\n",
    "        total += mark\n",
    "    avg = total/len(marks)\n",
    "    print(\"Rollno:\",roll,\" Name:\",name,\" Marks:\",marks,\" Average:\",avg)"
   ]
  },
  {
   "cell_type": "code",
   "execution_count": 2,
   "id": "fce97478",
   "metadata": {},
   "outputs": [],
   "source": [
    "stud1=(1,'Berchmans',(78,80,60,95))"
   ]
  },
  {
   "cell_type": "code",
   "execution_count": 3,
   "id": "9f55adef",
   "metadata": {},
   "outputs": [
    {
     "name": "stdout",
     "output_type": "stream",
     "text": [
      "Rollno: 1  Name: Berchmans  Marks: (78, 80, 60, 95)  Average: 78.25\n"
     ]
    }
   ],
   "source": [
    "find_average(stud1)"
   ]
  },
  {
   "cell_type": "markdown",
   "id": "dd701aae",
   "metadata": {},
   "source": [
    "### Question2. Write a weight management program that prompts the user to enter in 7 days of their body weight values as float numbers. Store them in list. Then print first day weight, last day weight, 4th day weight, highest weight, lowest weight and average weight. Finally, print if average weight < lowest weight, then print “Your weight management is excellent”. Otherwise print “Your weight management is not good. Please take care of your diet”."
   ]
  },
  {
   "cell_type": "code",
   "execution_count": 4,
   "id": "a9f47f80",
   "metadata": {},
   "outputs": [
    {
     "name": "stdout",
     "output_type": "stream",
     "text": [
      "Enter Your Weight:59\n",
      "Enter Your Weight:61\n",
      "Enter Your Weight:58\n",
      "Enter Your Weight:60\n",
      "Enter Your Weight:63\n",
      "Enter Your Weight:57\n",
      "Enter Your Weight:61\n",
      "\n",
      " First day your Weight: 59.0\n",
      "\n",
      " Last day your Weight: 61.0\n",
      "\n",
      " Fourth day your Weight: 60.0\n",
      "\n",
      " Maximum Weight: 63.0\n",
      "\n",
      " Minmum Weight: 57.0\n",
      "\n",
      " Average Weight: 59.857142857142854\n",
      " Maintain your Weight\n"
     ]
    }
   ],
   "source": [
    "list = []\n",
    "for i in range(7):\n",
    "    z = float(input(\"Enter Your Weight:\"))\n",
    "    list.append(z) \n",
    "highest = max(list)\n",
    "lowest = min(list)\n",
    "average = sum(list)/len(list)\n",
    "\n",
    "print(\"\\n First day your Weight:\", list[0])\n",
    "print(\"\\n Last day your Weight:\", list[-1])\n",
    "print(\"\\n Fourth day your Weight:\", list[3])\n",
    "print(\"\\n Maximum Weight:\", highest)\n",
    "print(\"\\n Minmum Weight:\", lowest)\n",
    "print(\"\\n Average Weight:\", average)\n",
    "\n",
    "if average<lowest:\n",
    "    print(\" Excellent\")   \n",
    "else:\n",
    "    print(\" Maintain your Weight\")"
   ]
  },
  {
   "cell_type": "markdown",
   "id": "4c0ad5ee",
   "metadata": {},
   "source": [
    "###  Question3. Write a function lastN(lst, n) that takes a list of integers and n and returns n largest numbers. \n"
   ]
  },
  {
   "cell_type": "code",
   "execution_count": 5,
   "id": "30c1dfe8",
   "metadata": {},
   "outputs": [
    {
     "name": "stdout",
     "output_type": "stream",
     "text": [
      "How many number want to enter??: 7\n",
      "\n",
      " Enter a Number:29\n",
      "\n",
      " Enter a Number:7\n",
      "\n",
      " Enter a Number:9\n",
      "\n",
      " Enter a Number:22\n",
      "\n",
      " Enter a Number:345\n",
      "\n",
      " Enter a Number:908\n",
      "\n",
      " Enter a Number:5678901234\n",
      "\n",
      " How many Largest numbers you want to find??: 3\n",
      "\n",
      " \n",
      " Largest Numbers: [5678901234, 908, 345]\n"
     ]
    }
   ],
   "source": [
    "def lastN(lst, n):\n",
    "    final_list = []\n",
    "    for i in range(n):\n",
    "        max2 = 0\n",
    "        for j in lst:\n",
    "            if j > max2:\n",
    "                max2 = j;\n",
    "        lst.remove(max2);\n",
    "        final_list.append(max2)\n",
    "    print(\"\\n \\n Largest Numbers:\", final_list)       \n",
    "c = int(input(\"How many number want to enter??: \"))\n",
    "lst = []\n",
    "for i in range(c):\n",
    "    p=int(input(\"\\n Enter a Number:\"))\n",
    "    lst.append(p)\n",
    "n = int(input(\"\\n How many Largest numbers you want to find??: \"))\n",
    "lastN(lst,n)"
   ]
  },
  {
   "cell_type": "markdown",
   "id": "f98bf2d5",
   "metadata": {},
   "source": [
    "### Question4. Given a list of strings, return a list with the strings in sorted order, except group all the strings that begin with 'x' first. Hint: this can be done by making 2 lists and sorting each of them before combining them."
   ]
  },
  {
   "cell_type": "code",
   "execution_count": 6,
   "id": "c6d9d0b5",
   "metadata": {},
   "outputs": [],
   "source": [
    "def front_x(words):\n",
    "    hlist = []\n",
    "    flist = []\n",
    "    \n",
    "    for word in words:\n",
    "        if word.startswith(\"h\"):\n",
    "            hlist.append(word)\n",
    "        else:\n",
    "            flist.append(word)\n",
    "            \n",
    "    return sorted(hlist) + sorted(flist)"
   ]
  },
  {
   "cell_type": "code",
   "execution_count": 7,
   "id": "35df011f",
   "metadata": {},
   "outputs": [
    {
     "data": {
      "text/plain": [
       "['Banana', 'Berchmans', 'apple', 'max']"
      ]
     },
     "execution_count": 7,
     "metadata": {},
     "output_type": "execute_result"
    }
   ],
   "source": [
    "words = ['apple', 'Berchmans','Banana','max']\n",
    "front_x(words)"
   ]
  },
  {
   "cell_type": "markdown",
   "id": "9bef4d6c",
   "metadata": {},
   "source": [
    "###  Question5. Develop a function sort_last(). Given a list of non-empty tuples, return a list sorted in increasing order by the last element in each tuple. Hint: use a custom key= function to extract the last element form each tuple."
   ]
  },
  {
   "cell_type": "code",
   "execution_count": 8,
   "id": "f9dc30f6",
   "metadata": {},
   "outputs": [
    {
     "name": "stdout",
     "output_type": "stream",
     "text": [
      "\n",
      "Test Case:1  \n",
      " \t Input:[(2,8),(8,7),(3,4,5),(5,5)] \n",
      " \t Output:  [(3, 4, 5), (5, 5), (8, 7), (2, 8)]\n",
      "\n",
      "Test Case:2  \n",
      " \t Input:[(5,6),(3,2),(2,1)] \n",
      " \t Output:  [(3, 2), (5, 6)]\n",
      "\n",
      "Test Case:3  \n",
      " \t Input:[(2,8),(2,5),(3,1)] \n",
      " \t Output:  [(3, 1), (2, 8)]\n"
     ]
    }
   ],
   "source": [
    "def last(u):\n",
    "    return u[-1]\n",
    "def sort_list_last(tuples):\n",
    "    return sorted(tuples, key=last)\n",
    "print(\"\\nTest Case:1  \\n \\t Input:[(2,8),(8,7),(3,4,5),(5,5)] \\n \\t Output: \", sort_list_last([(2,8),(8,7),(3,4,5),(5,5)]))\n",
    "print(\"\\nTest Case:2  \\n \\t Input:[(5,6),(3,2),(2,1)] \\n \\t Output: \", sort_list_last([(5,6),(3,2)]))\n",
    "print(\"\\nTest Case:3  \\n \\t Input:[(2,8),(2,5),(3,1)] \\n \\t Output: \", sort_list_last([(2,8),(3,1)]))"
   ]
  },
  {
   "cell_type": "markdown",
   "id": "3c6c6337",
   "metadata": {},
   "source": [
    "### Question6. Other String Functions \n",
    "### a) Define a function first() that receives a tuple and returns its first element \n",
    "### b) Define a function sort_first() that receives a list of tuples and returns the sorted \n",
    "### c) Print lists in sorted order \n",
    "### d) Define a function middle() that receives a a tuple and returns its middle element \n",
    "### e) Define a functino sort_middle() that receives a list of tuples and returns it sorted using the key middle \n",
    "### f) Print the list [(1,2,3), (2,1,4), (10,7,15), (20,4,50), (30, 6, 40)] in sorted order. Output should be: [(2, 1, 4), (1, 2, 3), (20, 4, 50), (30, 6, 40), (10, 7, 15)"
   ]
  },
  {
   "cell_type": "code",
   "execution_count": 9,
   "id": "a58a487f",
   "metadata": {},
   "outputs": [],
   "source": [
    "num = [(1,2,3),(2,1,4),(10,7,15),(20,4,50),(30,6,40)]\n",
    "\n",
    "def first(num):\n",
    "    for a in num:\n",
    "        l,m,n=a\n",
    "        print(l)\n",
    "        \n",
    "def sort_first(num):\n",
    "    new_list = sorted(num)\n",
    "    return new_list\n",
    "\n",
    "def lists(num):\n",
    "    return sorted(num, key=None, reverse=0)\n",
    "\n",
    "def middle(num):\n",
    "    for a in num:\n",
    "        l,m,n=a\n",
    "        print(m)\n",
    "        \n",
    "def sort_middle(num):\n",
    "    return sorted(num, key = lambda mid:mid[1])"
   ]
  },
  {
   "cell_type": "code",
   "execution_count": 10,
   "id": "ee862596",
   "metadata": {},
   "outputs": [
    {
     "name": "stdout",
     "output_type": "stream",
     "text": [
      "1\n",
      "2\n",
      "10\n",
      "20\n",
      "30\n"
     ]
    }
   ],
   "source": [
    "first(num)"
   ]
  },
  {
   "cell_type": "markdown",
   "id": "121614b1",
   "metadata": {},
   "source": [
    "###  Question7. Develop a function remove_adjacent(). Given a list of numbers, return a list where all adjacent same elements have been reduced to a single element. You may create a new list or modify the passed in list. "
   ]
  },
  {
   "cell_type": "code",
   "execution_count": 11,
   "id": "0a23c1ed",
   "metadata": {},
   "outputs": [],
   "source": [
    "def remove_adjacent(lst):\n",
    "    s = []\n",
    "    for item in lst:\n",
    "        if len(s):\n",
    "            if s[-1] != item:\n",
    "                s.append(item)\n",
    "        else:\n",
    "            s.append(item)\n",
    "    return s"
   ]
  },
  {
   "cell_type": "code",
   "execution_count": 12,
   "id": "3a7a5e3f",
   "metadata": {},
   "outputs": [
    {
     "data": {
      "text/plain": [
       "[1, 2, 4, 5, 6]"
      ]
     },
     "execution_count": 12,
     "metadata": {},
     "output_type": "execute_result"
    }
   ],
   "source": [
    "remove_adjacent([1,2,4,5,5,6])"
   ]
  },
  {
   "cell_type": "markdown",
   "id": "6bd8208d",
   "metadata": {},
   "source": [
    "### Question8. Write a function verbing(). Given a string, if its length is at least 3, add 'ing' to its end. Unless it already ends in 'ing', in which case add 'ly' instead. If the string length is less than 3, leave it unchanged. Return the resulting string. So ‘hail’ yields: hailing; ‘swimming’ yields: swimmingly; ‘do’ yields: do."
   ]
  },
  {
   "cell_type": "code",
   "execution_count": 13,
   "id": "98e6b334",
   "metadata": {},
   "outputs": [],
   "source": [
    "def verbing(str):\n",
    "    length = len(str)\n",
    "    \n",
    "    if length > 2:\n",
    "        if str[-3:] == 'ing':\n",
    "            str += 'ly'       \n",
    "        else:\n",
    "            str += 'ing'\n",
    "    return str"
   ]
  },
  {
   "cell_type": "code",
   "execution_count": 14,
   "id": "fbca0642",
   "metadata": {},
   "outputs": [
    {
     "data": {
      "text/plain": [
       "'Waiting'"
      ]
     },
     "execution_count": 14,
     "metadata": {},
     "output_type": "execute_result"
    }
   ],
   "source": [
    "verbing(\"Wait\")"
   ]
  },
  {
   "cell_type": "markdown",
   "id": "d7bcd91e",
   "metadata": {},
   "source": [
    "### Question9. Develop a function not_bad(). Given a string, find the first appearance of the substring 'not' and 'bad'. If the 'bad' follows the 'not', replace the whole 'not'...'bad' substring with 'good'. Return the resulting string. So 'This dinner is not that bad!' yields: This dinner is good!"
   ]
  },
  {
   "cell_type": "code",
   "execution_count": 15,
   "id": "42e71605",
   "metadata": {},
   "outputs": [],
   "source": [
    "def not_bad(v):\n",
    "    vnot = v.find('not')\n",
    "    vbad = v.find('bad')\n",
    "    if vbad > vnot:\n",
    "        v = v.replace(v[vnot:(vbad+3)], 'This dinner is Good')\n",
    "    return v"
   ]
  },
  {
   "cell_type": "code",
   "execution_count": 16,
   "id": "d7c4d5dd",
   "metadata": {},
   "outputs": [
    {
     "data": {
      "text/plain": [
       "'This dinner is not that Bad!!'"
      ]
     },
     "execution_count": 16,
     "metadata": {},
     "output_type": "execute_result"
    }
   ],
   "source": [
    "not_bad(\"This dinner is not that Bad!!\")"
   ]
  }
 ],
 "metadata": {
  "kernelspec": {
   "display_name": "Python 3",
   "language": "python",
   "name": "python3"
  },
  "language_info": {
   "codemirror_mode": {
    "name": "ipython",
    "version": 3
   },
   "file_extension": ".py",
   "mimetype": "text/x-python",
   "name": "python",
   "nbconvert_exporter": "python",
   "pygments_lexer": "ipython3",
   "version": "3.8.8"
  }
 },
 "nbformat": 4,
 "nbformat_minor": 5
}
